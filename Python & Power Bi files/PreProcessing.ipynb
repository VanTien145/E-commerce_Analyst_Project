{
 "cells": [
  {
   "cell_type": "code",
   "execution_count": 2,
   "metadata": {},
   "outputs": [],
   "source": [
    "import pandas as pd"
   ]
  },
  {
   "cell_type": "code",
   "execution_count": 5,
   "metadata": {},
   "outputs": [],
   "source": [
    "df = pd.read_csv(r'D:\\Data Analysis\\Level 2 Business Intelligence\\Final Project\\BI55 - Final Project - Nhóm 1\\Raw Dataset\\sales.csv', low_memory=False)"
   ]
  },
  {
   "cell_type": "code",
   "execution_count": 3,
   "metadata": {},
   "outputs": [
    {
     "name": "stdout",
     "output_type": "stream",
     "text": [
      "<class 'pandas.core.frame.DataFrame'>\n",
      "RangeIndex: 286392 entries, 0 to 286391\n",
      "Data columns (total 36 columns):\n",
      " #   Column            Non-Null Count   Dtype  \n",
      "---  ------            --------------   -----  \n",
      " 0   order_id          286392 non-null  object \n",
      " 1   order_date        286392 non-null  object \n",
      " 2   status            286392 non-null  object \n",
      " 3   item_id           286392 non-null  float64\n",
      " 4   sku               286392 non-null  object \n",
      " 5   qty_ordered       286392 non-null  float64\n",
      " 6   price             286392 non-null  float64\n",
      " 7   value             286392 non-null  float64\n",
      " 8   discount_amount   286392 non-null  float64\n",
      " 9   total             286392 non-null  float64\n",
      " 10  category          286392 non-null  object \n",
      " 11  payment_method    286392 non-null  object \n",
      " 12  bi_st             286392 non-null  object \n",
      " 13  cust_id           286392 non-null  float64\n",
      " 14  year              286392 non-null  int64  \n",
      " 15  month             286392 non-null  object \n",
      " 16  ref_num           286392 non-null  int64  \n",
      " 17  Name Prefix       286392 non-null  object \n",
      " 18  First Name        286392 non-null  object \n",
      " 19  Middle Initial    286392 non-null  object \n",
      " 20  Last Name         286392 non-null  object \n",
      " 21  Gender            286392 non-null  object \n",
      " 22  age               286392 non-null  float64\n",
      " 23  full_name         286392 non-null  object \n",
      " 24  E Mail            286392 non-null  object \n",
      " 25  Customer Since    286392 non-null  object \n",
      " 26  SSN               286392 non-null  object \n",
      " 27  Phone No.         286392 non-null  object \n",
      " 28  Place Name        286392 non-null  object \n",
      " 29  County            286392 non-null  object \n",
      " 30  City              286392 non-null  object \n",
      " 31  State             286392 non-null  object \n",
      " 32  Zip               286392 non-null  int64  \n",
      " 33  Region            286392 non-null  object \n",
      " 34  User Name         286392 non-null  object \n",
      " 35  Discount_Percent  286392 non-null  float64\n",
      "dtypes: float64(9), int64(3), object(24)\n",
      "memory usage: 78.7+ MB\n"
     ]
    }
   ],
   "source": [
    "# Xem sơ lược df\n",
    "df.info()"
   ]
  },
  {
   "cell_type": "code",
   "execution_count": 6,
   "metadata": {},
   "outputs": [
    {
     "name": "stdout",
     "output_type": "stream",
     "text": [
      "Series([], dtype: int64)\n"
     ]
    }
   ],
   "source": [
    "# Kiểm tra số lượng giá trị null của từng côt\n",
    "check_null = df.isnull().sum()\n",
    "print(check_null[check_null>=1])"
   ]
  },
  {
   "cell_type": "code",
   "execution_count": 13,
   "metadata": {},
   "outputs": [
    {
     "name": "stdout",
     "output_type": "stream",
     "text": [
      "0\n"
     ]
    }
   ],
   "source": [
    "# Kiểm tra số lượng giá trị duplicate của từng côt\n",
    "\n",
    "check_duplicate = df.duplicated().sum()\n",
    "print(check_duplicate)"
   ]
  },
  {
   "cell_type": "code",
   "execution_count": 9,
   "metadata": {},
   "outputs": [],
   "source": [
    "# Xóa duplicate nếu có\n",
    "df.drop_duplicates(inplace=True)"
   ]
  },
  {
   "cell_type": "code",
   "execution_count": 10,
   "metadata": {},
   "outputs": [],
   "source": [
    "# Sửa tên cột thành viết thường và cách nhau bởi dấu \"_\"\n",
    "df.columns = df.columns.str.lower()\n",
    "df.columns = df.columns.str.replace(' ', '_')"
   ]
  },
  {
   "cell_type": "code",
   "execution_count": 11,
   "metadata": {},
   "outputs": [
    {
     "data": {
      "text/plain": [
       "Index(['order_id', 'order_date', 'status', 'item_id', 'sku', 'qty_ordered',\n",
       "       'price', 'value', 'discount_amount', 'total', 'category',\n",
       "       'payment_method', 'bi_st', 'cust_id', 'year', 'month', 'ref_num',\n",
       "       'name_prefix', 'first_name', 'middle_initial', 'last_name', 'gender',\n",
       "       'age', 'full_name', 'e_mail', 'customer_since', 'ssn', 'phone_no._',\n",
       "       'place_name', 'county', 'city', 'state', 'zip', 'region', 'user_name',\n",
       "       'discount_percent'],\n",
       "      dtype='object')"
      ]
     },
     "execution_count": 11,
     "metadata": {},
     "output_type": "execute_result"
    }
   ],
   "source": [
    "# Kiểm tra lại tên các cột\n",
    "df.columns"
   ]
  },
  {
   "cell_type": "code",
   "execution_count": 12,
   "metadata": {},
   "outputs": [
    {
     "data": {
      "text/plain": [
       "Index(['order_id', 'order_date', 'status', 'item_id', 'sku', 'qty_ordered',\n",
       "       'price', 'value', 'discount_amount', 'total', 'category',\n",
       "       'payment_method', 'bi_st', 'cust_id', 'year', 'month', 'ref_num',\n",
       "       'name_prefix', 'first_name', 'middle_initial', 'last_name', 'gender',\n",
       "       'age', 'full_name', 'e_mail', 'customer_since', 'ssn', 'phone_no',\n",
       "       'place_name', 'county', 'city', 'state', 'zip', 'region', 'user_name',\n",
       "       'discount_percent'],\n",
       "      dtype='object')"
      ]
     },
     "execution_count": 12,
     "metadata": {},
     "output_type": "execute_result"
    }
   ],
   "source": [
    "# Tiếp tục sửa tên cột phone_no do nó có chứa khoảng trắng ở cuối chữ --> xuất hiện thêm \"_\"\n",
    "df.rename(columns={'phone_no._': 'phone_no'}, inplace=True)\n",
    "df.columns"
   ]
  },
  {
   "cell_type": "code",
   "execution_count": 14,
   "metadata": {},
   "outputs": [
    {
     "data": {
      "text/html": [
       "<div>\n",
       "<style scoped>\n",
       "    .dataframe tbody tr th:only-of-type {\n",
       "        vertical-align: middle;\n",
       "    }\n",
       "\n",
       "    .dataframe tbody tr th {\n",
       "        vertical-align: top;\n",
       "    }\n",
       "\n",
       "    .dataframe thead th {\n",
       "        text-align: right;\n",
       "    }\n",
       "</style>\n",
       "<table border=\"1\" class=\"dataframe\">\n",
       "  <thead>\n",
       "    <tr style=\"text-align: right;\">\n",
       "      <th></th>\n",
       "      <th>order_id</th>\n",
       "      <th>order_date</th>\n",
       "      <th>status</th>\n",
       "      <th>item_id</th>\n",
       "      <th>sku</th>\n",
       "      <th>qty_ordered</th>\n",
       "      <th>price</th>\n",
       "      <th>value</th>\n",
       "      <th>discount_amount</th>\n",
       "      <th>total</th>\n",
       "      <th>...</th>\n",
       "      <th>SSN</th>\n",
       "      <th>Phone No.</th>\n",
       "      <th>Place Name</th>\n",
       "      <th>County</th>\n",
       "      <th>City</th>\n",
       "      <th>State</th>\n",
       "      <th>Zip</th>\n",
       "      <th>Region</th>\n",
       "      <th>User Name</th>\n",
       "      <th>Discount_Percent</th>\n",
       "    </tr>\n",
       "  </thead>\n",
       "  <tbody>\n",
       "  </tbody>\n",
       "</table>\n",
       "<p>0 rows × 36 columns</p>\n",
       "</div>"
      ],
      "text/plain": [
       "Empty DataFrame\n",
       "Columns: [order_id, order_date, status, item_id, sku, qty_ordered, price, value, discount_amount, total, category, payment_method, bi_st, cust_id, year, month, ref_num, Name Prefix, First Name, Middle Initial, Last Name, Gender, age, full_name, E Mail, Customer Since, SSN, Phone No. , Place Name, County, City, State, Zip, Region, User Name, Discount_Percent]\n",
       "Index: []\n",
       "\n",
       "[0 rows x 36 columns]"
      ]
     },
     "execution_count": 14,
     "metadata": {},
     "output_type": "execute_result"
    }
   ],
   "source": [
    "# Có khoảng 5 giá trị trong cột order_id có sự không đồng nhất, cụ thể là \"-1\" ở cuối id\n",
    "df['order_id'] = df['order_id'].replace('-1$', '', regex=True)\n",
    "\n",
    "\n",
    "df[df['order_id']=='100468520-1']"
   ]
  },
  {
   "cell_type": "code",
   "execution_count": 14,
   "metadata": {},
   "outputs": [
    {
     "name": "stdout",
     "output_type": "stream",
     "text": [
      "<class 'pandas.core.frame.DataFrame'>\n",
      "RangeIndex: 286392 entries, 0 to 286391\n",
      "Data columns (total 2 columns):\n",
      " #   Column          Non-Null Count   Dtype         \n",
      "---  ------          --------------   -----         \n",
      " 0   order_date      286392 non-null  datetime64[ns]\n",
      " 1   customer_since  286392 non-null  datetime64[ns]\n",
      "dtypes: datetime64[ns](2)\n",
      "memory usage: 4.4 MB\n"
     ]
    }
   ],
   "source": [
    "# Chuyển đổi 2 cột dưới về dạng datetime\n",
    "df.order_date = pd.to_datetime(df['order_date'])\n",
    "df.customer_since = pd.to_datetime(df['customer_since'])\n",
    "df[['order_date', 'customer_since']].info()"
   ]
  },
  {
   "cell_type": "code",
   "execution_count": 29,
   "metadata": {},
   "outputs": [
    {
     "name": "stderr",
     "output_type": "stream",
     "text": [
      "C:\\Users\\nhuva\\AppData\\Local\\Temp\\ipykernel_50280\\1893682952.py:6: SettingWithCopyWarning: \n",
      "A value is trying to be set on a copy of a slice from a DataFrame\n",
      "\n",
      "See the caveats in the documentation: https://pandas.pydata.org/pandas-docs/stable/user_guide/indexing.html#returning-a-view-versus-a-copy\n",
      "  df_customers.drop_duplicates(inplace=True)\n",
      "C:\\Users\\nhuva\\AppData\\Local\\Temp\\ipykernel_50280\\1893682952.py:11: SettingWithCopyWarning: \n",
      "A value is trying to be set on a copy of a slice from a DataFrame\n",
      "\n",
      "See the caveats in the documentation: https://pandas.pydata.org/pandas-docs/stable/user_guide/indexing.html#returning-a-view-versus-a-copy\n",
      "  df_orders.drop_duplicates(inplace=True)\n",
      "C:\\Users\\nhuva\\AppData\\Local\\Temp\\ipykernel_50280\\1893682952.py:16: SettingWithCopyWarning: \n",
      "A value is trying to be set on a copy of a slice from a DataFrame\n",
      "\n",
      "See the caveats in the documentation: https://pandas.pydata.org/pandas-docs/stable/user_guide/indexing.html#returning-a-view-versus-a-copy\n",
      "  df_products.drop_duplicates(inplace=True)\n",
      "C:\\Users\\nhuva\\AppData\\Local\\Temp\\ipykernel_50280\\1893682952.py:20: SettingWithCopyWarning: \n",
      "A value is trying to be set on a copy of a slice from a DataFrame\n",
      "\n",
      "See the caveats in the documentation: https://pandas.pydata.org/pandas-docs/stable/user_guide/indexing.html#returning-a-view-versus-a-copy\n",
      "  df_regions.drop_duplicates(inplace=True)\n"
     ]
    }
   ],
   "source": [
    "################################ Chia dataset ra thành các bảng để chuẩn hóa cơ sở dữ liệu ##############################\n",
    "\n",
    "\n",
    "# table customers\n",
    "df_customers  = df[['cust_id', 'name_prefix', 'first_name', 'middle_initial', 'last_name', 'full_name', 'gender', 'age', 'e_mail', 'customer_since', 'ssn', 'phone_no', 'zip', 'user_name']]\n",
    "df_customers.drop_duplicates(inplace=True)\n",
    "\n",
    "\n",
    "# table orders\n",
    "df_orders = df[['order_id',\t'order_date', 'status',\t'sku', 'item_id', 'qty_ordered', 'price', 'value', 'discount_amount', 'total', 'payment_method', 'bi_st', 'ref_num', 'cust_id']]\n",
    "df_orders.drop_duplicates(inplace=True)\n",
    "\n",
    "\n",
    "# table products\n",
    "df_products = df[['item_id', 'category', 'price']]\n",
    "df_products.drop_duplicates(inplace=True)\n",
    "\n",
    "# table regions\n",
    "df_regions = df[['zip', 'cust_id', 'place_name', 'county', 'city', 'state', 'region']]\n",
    "df_regions.drop_duplicates(inplace=True)\n"
   ]
  },
  {
   "cell_type": "code",
   "execution_count": 30,
   "metadata": {},
   "outputs": [],
   "source": [
    "# Xuất file csv mà không có cột index\n",
    "df_customers.to_csv('customers.csv', index=False)\n",
    "df_orders.to_csv('orders.csv', index=False)\n",
    "df_products.to_csv('products.csv', index=False)\n",
    "df_regions.to_csv('regions.csv', index=False)"
   ]
  },
  {
   "cell_type": "code",
   "execution_count": null,
   "metadata": {},
   "outputs": [],
   "source": []
  }
 ],
 "metadata": {
  "kernelspec": {
   "display_name": "Python 3",
   "language": "python",
   "name": "python3"
  },
  "language_info": {
   "codemirror_mode": {
    "name": "ipython",
    "version": 3
   },
   "file_extension": ".py",
   "mimetype": "text/x-python",
   "name": "python",
   "nbconvert_exporter": "python",
   "pygments_lexer": "ipython3",
   "version": "3.12.1"
  }
 },
 "nbformat": 4,
 "nbformat_minor": 2
}
